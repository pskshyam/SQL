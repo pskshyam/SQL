{
 "cells": [
  {
   "cell_type": "markdown",
   "metadata": {},
   "source": [
    "### Create table and Insert values using Cursor object"
   ]
  },
  {
   "cell_type": "code",
   "execution_count": 28,
   "metadata": {},
   "outputs": [],
   "source": [
    "# Python code to demonstrate table creation and \n",
    "# insertions with SQL \n",
    "\n",
    "# importing module \n",
    "import sqlite3 \n",
    "\n",
    "# connecting to the database \n",
    "connection = sqlite3.connect(\"myTable.db\") \n",
    "\n",
    "# cursor \n",
    "crsr = connection.cursor() \n",
    "\n",
    "# SQL command to create a table in the database \n",
    "sql_command = \"\"\"CREATE TABLE emp ( \n",
    "staff_number INTEGER PRIMARY KEY, \n",
    "fname VARCHAR(20), \n",
    "lname VARCHAR(30), \n",
    "gender CHAR(1), \n",
    "joining DATE);\"\"\"\n",
    "\n",
    "# execute the statement \n",
    "crsr.execute(sql_command) \n",
    "\n",
    "# SQL command to insert the data in the table \n",
    "sql_command = \"\"\"INSERT INTO emp VALUES (23, \"Rishabh\", \"Bansal\", \"M\", \"2014-03-28\");\"\"\"\n",
    "crsr.execute(sql_command) \n",
    "\n",
    "# another SQL command to insert the data in the table \n",
    "sql_command = \"\"\"INSERT INTO emp VALUES (1, \"Bill\", \"Gates\", \"M\", \"1980-10-28\");\"\"\"\n",
    "crsr.execute(sql_command) \n",
    "\n",
    "# To save the changes in the files. Never skip this. \n",
    "# If we skip this, nothing will be saved in the database. \n",
    "connection.commit() \n",
    "\n",
    "# close the connection \n",
    "connection.close() \n"
   ]
  },
  {
   "cell_type": "markdown",
   "metadata": {},
   "source": [
    "### Retrieving values from DB using cursor fetchall() method"
   ]
  },
  {
   "cell_type": "code",
   "execution_count": 40,
   "metadata": {},
   "outputs": [
    {
     "name": "stdout",
     "output_type": "stream",
     "text": [
      "(1, 'Bill', 'Gates', 'M', '1980-10-28')\n"
     ]
    }
   ],
   "source": [
    "# connect withe the myTable database \n",
    "connection = sqlite3.connect(\"myTable.db\") \n",
    "  \n",
    "# cursor object \n",
    "crsr = connection.cursor() \n",
    "  \n",
    "# execute the command to fetch all the data from the table emp \n",
    "crsr.execute(\"SELECT * FROM emp\")  \n",
    "  \n",
    "# store all the fetched data in the ans variable \n",
    "ans= crsr.fetchall()  \n",
    "#print(ans)\n",
    "\n",
    "# loop to print all the data \n",
    "for i in ans: \n",
    "    print(i) "
   ]
  },
  {
   "cell_type": "markdown",
   "metadata": {},
   "source": [
    "### Updating DB using connect.execute() method"
   ]
  },
  {
   "cell_type": "code",
   "execution_count": 35,
   "metadata": {},
   "outputs": [
    {
     "name": "stdout",
     "output_type": "stream",
     "text": [
      "Total number of rows updated : 1\n",
      "(1, 'Bill', 'Gates', 'M', '1980-10-28')\n",
      "(23, 'Sam', 'Bansal', 'M', '2014-03-28')\n"
     ]
    }
   ],
   "source": [
    "# database name to be passed as parameter \n",
    "conn = sqlite3.connect('myTable.db') \n",
    "\n",
    "# update the student record \n",
    "conn.execute(\"UPDATE emp SET fname = 'Sam' where staff_number='23'\") \n",
    "conn.commit() \n",
    "\n",
    "print(\"Total number of rows updated :\", conn.total_changes)\n",
    "\n",
    "cursor = conn.execute(\"SELECT * FROM emp\") \n",
    "for row in cursor: \n",
    "    print(row) \n",
    "\n",
    "conn.close() \n"
   ]
  },
  {
   "cell_type": "markdown",
   "metadata": {},
   "source": [
    "### Delete rows from DB using connect.execute() method"
   ]
  },
  {
   "cell_type": "code",
   "execution_count": 37,
   "metadata": {},
   "outputs": [
    {
     "name": "stdout",
     "output_type": "stream",
     "text": [
      "Total number of rows deleted : 1\n",
      "(1, 'Bill', 'Gates', 'M', '1980-10-28')\n"
     ]
    }
   ],
   "source": [
    "# database name to be passed as parameter \n",
    "conn = sqlite3.connect('myTable.db') \n",
    "\n",
    "# delete student record from database \n",
    "conn.execute(\"DELETE from emp where staff_number='23'\") \n",
    "conn.commit() \n",
    "\n",
    "print(\"Total number of rows deleted :\", conn.total_changes)\n",
    "\n",
    "cursor = conn.execute(\"SELECT * FROM emp\") \n",
    "for row in cursor: \n",
    "    print(row)\n",
    "\n",
    "conn.close() "
   ]
  },
  {
   "cell_type": "markdown",
   "metadata": {},
   "source": [
    "### Creating table in memory and inserting values with user input"
   ]
  },
  {
   "cell_type": "code",
   "execution_count": 43,
   "metadata": {},
   "outputs": [
    {
     "name": "stdout",
     "output_type": "stream",
     "text": [
      "Enter 5 students names:\n",
      "ram\n",
      "shyam\n",
      "ravi\n",
      "gopi\n",
      "anand\n",
      "Enter their ages respectively:\n",
      "20\n",
      "21\n",
      "22\n",
      "23\n",
      "24\n",
      "Enter their ids respectively:\n",
      "101\n",
      "102\n",
      "103\n",
      "104\n",
      "105\n",
      "[('ram', 20, 101)]\n",
      "[('ram', 20, 101), ('shyam', 21, 102)]\n",
      "[('ram', 20, 101), ('shyam', 21, 102), ('ravi', 22, 103)]\n",
      "[('ram', 20, 101), ('shyam', 21, 102), ('ravi', 22, 103), ('gopi', 23, 104)]\n",
      "[('ram', 20, 101), ('shyam', 21, 102), ('ravi', 22, 103), ('gopi', 23, 104), ('anand', 24, 105)]\n"
     ]
    }
   ],
   "source": [
    "# creates a database in RAM \n",
    "con = sqlite3.connect(\":memory:\") \n",
    "cur = con.cursor() \n",
    "cur.execute(\"create table person (name, age, id)\") \n",
    "\n",
    "print(\"Enter 5 students names:\") \n",
    "who = [input() for i in range(5)] \n",
    "print(\"Enter their ages respectively:\") \n",
    "age = [int(input()) for i in range(5)] \n",
    "print(\"Enter their ids respectively:\") \n",
    "p_id = [int(input()) for i in range(5)] \n",
    "n = len(who) \n",
    "\n",
    "for i in range(n): \n",
    "\n",
    "    # This is the q-mark style: \n",
    "    cur.execute(\"insert into person values (?, ?, ?)\", (who[i], age[i], p_id[i])) \n",
    "\n",
    "    # And this is the named style: \n",
    "    cur.execute(\"select * from person\") \n",
    "\n",
    "    # Fetches all entries from table \n",
    "    print(cur.fetchall())\n"
   ]
  },
  {
   "cell_type": "markdown",
   "metadata": {},
   "source": [
    "### Plotting user input data"
   ]
  },
  {
   "cell_type": "code",
   "execution_count": 44,
   "metadata": {},
   "outputs": [
    {
     "name": "stdout",
     "output_type": "stream",
     "text": [
      "Enter 5 students names:\n",
      "ram\n",
      "ravi\n",
      "shyam\n",
      "gopi\n",
      "anand\n",
      "Enter their ages respectively:\n",
      "20\n",
      "21\n",
      "22\n",
      "23\n",
      "24\n",
      "Enter their ids respectively:\n",
      "101\n",
      "102\n",
      "103\n",
      "104\n",
      "105\n"
     ]
    },
    {
     "data": {
      "image/png": "[encoded data removed]",
      "text/plain": [
       "<Figure size 432x288 with 1 Axes>"
      ]
     },
     "metadata": {
      "needs_background": "light"
     },
     "output_type": "display_data"
    }
   ],
   "source": [
    "# graph visualization using matplotlib library \n",
    "import matplotlib.pyplot as plt \n",
    "\n",
    "def graph_data(p_id,age): \n",
    "\n",
    "    # plotting the points \n",
    "    plt.plot(p_id, age, color='yellow', linestyle='dashed', linewidth = 3, \n",
    "    marker='*', markerfacecolor='blue', markersize=12) \n",
    "\n",
    "    # naming the x axis \n",
    "    plt.xlabel('Persons Id') \n",
    "\n",
    "    # naming the y axis \n",
    "    plt.ylabel('Ages') \n",
    "\n",
    "    # plt.plot(p_id,age) \n",
    "    plt.show() \n",
    "\n",
    "print(\"Enter 5 students names:\") \n",
    "who = [input() for i in range(5)] \n",
    "print(\"Enter their ages respectively:\") \n",
    "age = [int(input()) for i in range(5)] \n",
    "print(\"Enter their ids respectively:\") \n",
    "p_id = [int(input()) for i in range(5)] \n",
    "\n",
    "# calling graph function \n",
    "graph_data(p_id,age) \n"
   ]
  },
  {
   "cell_type": "markdown",
   "metadata": {},
   "source": [
    "### ExecuteScript() method of cursor"
   ]
  },
  {
   "cell_type": "code",
   "execution_count": 45,
   "metadata": {},
   "outputs": [
    {
     "name": "stdout",
     "output_type": "stream",
     "text": [
      "[(1,)]\n",
      "[(\"Dan Clarke's GFG Detective Agency\", 'Sean Simpsons', 1987)]\n"
     ]
    }
   ],
   "source": [
    "import sqlite3 \n",
    "\n",
    "# Connection with the DataBase \n",
    "# 'library.db' \n",
    "connection = sqlite3.connect(\"library.db\") \n",
    "cursor = connection.cursor() \n",
    "\n",
    "# SQL piece of code Executed \n",
    "# SQL piece of code Executed \n",
    "cursor.executescript(\"\"\" \n",
    "    CREATE TABLE people( \n",
    "        firstname, \n",
    "        lastname, \n",
    "        age \n",
    "    ); \n",
    "\n",
    "    CREATE TABLE book( \n",
    "        title, \n",
    "        author, \n",
    "        published \n",
    "    ); \n",
    "\n",
    "    INSERT INTO \n",
    "    book(title, author, published) \n",
    "    VALUES ( \n",
    "        'Dan Clarke''s GFG Detective Agency', \n",
    "        'Sean Simpsons', \n",
    "        1987 \n",
    "    ); \n",
    "    \"\"\") \n",
    "\n",
    "sql = \"\"\" \n",
    "SELECT COUNT(*) FROM book;\"\"\"\n",
    "\n",
    "cursor.execute(sql) \n",
    "\n",
    "# The output in fetched and returned \n",
    "# as a List by fetchall() \n",
    "result = cursor.fetchall() \n",
    "print(result) \n",
    "\n",
    "sql = \"\"\" \n",
    "SELECT * FROM book;\"\"\"\n",
    "\n",
    "cursor.execute(sql) \n",
    "\n",
    "result = cursor.fetchall() \n",
    "print(result) \n",
    "\n",
    "# Changes saved into database \n",
    "connection.commit() \n",
    "\n",
    "# Connection closed(broken) \n",
    "# with DataBase \n",
    "connection.close() "
   ]
  },
  {
   "cell_type": "markdown",
   "metadata": {},
   "source": [
    "### executemany() method of connect"
   ]
  },
  {
   "cell_type": "code",
   "execution_count": 46,
   "metadata": {},
   "outputs": [
    {
     "name": "stdout",
     "output_type": "stream",
     "text": [
      "('A', 'B', 2008)\n",
      "('C', 'D', 2008)\n",
      "('E', 'F', 2010)\n"
     ]
    }
   ],
   "source": [
    "import sqlite3 \n",
    "\n",
    "# Connection with the DataBase \n",
    "# 'library.db' \n",
    "connection = sqlite3.connect(\"library1.db\") \n",
    "cursor = connection.cursor() \n",
    "\n",
    "# SQL piece of code Executed \n",
    "cursor.execute(\"\"\" \n",
    "\n",
    "    CREATE TABLE book( \n",
    "        title, \n",
    "        author, \n",
    "        published);\"\"\") \n",
    "\n",
    "List = [('A', 'B', 2008), ('C', 'D', 2008), \n",
    "        ('E', 'F', 2010)] \n",
    "\n",
    "connection. executemany(\"\"\" \n",
    "\n",
    "    INSERT INTO \n",
    "    book(title, author, published) \n",
    "    VALUES (?, ?, ?)\"\"\", List) \n",
    "\n",
    "sql = \"\"\" \n",
    "    SELECT * FROM book;\"\"\"\n",
    "\n",
    "cursor.execute(sql) \n",
    "result = cursor.fetchall() \n",
    "for x in result: \n",
    "    print(x) \n",
    "\n",
    "# Changes saved into database \n",
    "connection.commit() \n",
    "\n",
    "# Connection closed(broken) \n",
    "# with DataBase \n",
    "connection.close() \n"
   ]
  },
  {
   "cell_type": "markdown",
   "metadata": {},
   "source": [
    "### Fetching big data from DB using connect.execute() and cursor.fetchall()"
   ]
  },
  {
   "cell_type": "code",
   "execution_count": 47,
   "metadata": {},
   "outputs": [
    {
     "name": "stdout",
     "output_type": "stream",
     "text": [
      "Method-1\n",
      "\n",
      "(1007, 'Will', 'Olsen', 'M', '24-SEP-1865')\n",
      "(1008, 'Rkb', 'Boss', 'M', '27-NOV-1864')\n",
      "(1098, 'Sak', 'Rose', 'F', '27-DEC-1864')\n",
      "(1908, 'Royal', 'Bassen', 'F', '17-NOV-1894')\n",
      "\n",
      "Method-2\n",
      "\n",
      "(1007, 'Will', 'Olsen', 'M', '24-SEP-1865')\n",
      "(1008, 'Rkb', 'Boss', 'M', '27-NOV-1864')\n",
      "(1098, 'Sak', 'Rose', 'F', '27-DEC-1864')\n",
      "(1908, 'Royal', 'Bassen', 'F', '17-NOV-1894')\n"
     ]
    }
   ],
   "source": [
    "import sqlite3 \n",
    "\n",
    "# Connection created with the \n",
    "# database using sqlite3.connect() \n",
    "connection = sqlite3.connect(\"company.db\") \n",
    "cursor = connection.cursor() \n",
    "\n",
    "# Create Table command executed \n",
    "sql = \"\"\" \n",
    "        CREATE TABLE employee ( \n",
    "        ID INTEGER PRIMARY KEY, \n",
    "        fname VARCHAR(20), \n",
    "        lname VARCHAR(30), \n",
    "        gender CHAR(1), \n",
    "        dob DATE);\"\"\"\n",
    "cursor.execute(sql) \n",
    "\n",
    "# Single Tuple inserted \n",
    "sql = \"\"\" \n",
    "        INSERT INTO employee \n",
    "        VALUES (1007, \"Will\", \"Olsen\", \"M\", \"24-SEP-1865\");\"\"\"\n",
    "cursor.execute(sql) \n",
    "\n",
    "# Multiple Rows inserted \n",
    "List = [(1008, 'Rkb', 'Boss', 'M', \"27-NOV-1864\"), \n",
    "        (1098, 'Sak', 'Rose', 'F', \"27-DEC-1864\"), \n",
    "        (1908, 'Royal', 'Bassen', \"F\", \"17-NOV-1894\")] \n",
    "\n",
    "connection. executemany( \n",
    "        \"INSERT INTO employee VALUES (?, ?, ?, ?, ?)\", List) \n",
    "\n",
    "print(\"Method-1\\n\") \n",
    "\n",
    "# Multiple Rows fetched from \n",
    "# the Database \n",
    "for row in connection.execute('SELECT * FROM employee ORDER BY ID'): \n",
    "    print (row) \n",
    "\n",
    "print(\"\\nMethod-2\\n\") \n",
    "\n",
    "# Method-2 to fetch multiple \n",
    "# rows \n",
    "sql = \"\"\" \n",
    "        SELECT * FROM employee ORDER BY ID;\"\"\"\n",
    "\n",
    "cursor.execute(sql) \n",
    "result = cursor.fetchall() \n",
    "\n",
    "for x in result: \n",
    "    print(x) \n",
    "\n",
    "connection.commit() \n",
    "connection.close() "
   ]
  },
  {
   "cell_type": "markdown",
   "metadata": {},
   "source": [
    "Reference: https://www.geeksforgeeks.org/sql-using-python/"
   ]
  }
 ],
 "metadata": {
  "kernelspec": {
   "display_name": "Python 3",
   "language": "python",
   "name": "python3"
  },
  "language_info": {
   "codemirror_mode": {
    "name": "ipython",
    "version": 3
   },
   "file_extension": ".py",
   "mimetype": "text/x-python",
   "name": "python",
   "nbconvert_exporter": "python",
   "pygments_lexer": "ipython3",
   "version": "3.6.10"
  }
 },
 "nbformat": 4,
 "nbformat_minor": 4
}
